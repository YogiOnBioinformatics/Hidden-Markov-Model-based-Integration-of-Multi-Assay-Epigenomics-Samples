{
 "cells": [
  {
   "cell_type": "markdown",
   "id": "ceb5f690-87d3-4057-ba69-58a4b872f6ad",
   "metadata": {},
   "source": [
    "# Define Input Regions"
   ]
  },
  {
   "cell_type": "markdown",
   "id": "93d800f9-ca5e-447a-8db3-c46b2c50a043",
   "metadata": {},
   "source": [
    "## Purpose: "
   ]
  },
  {
   "cell_type": "markdown",
   "id": "2993b710-b028-46fe-97f5-6db98855d49e",
   "metadata": {},
   "source": [
    "*"
   ]
  },
  {
   "cell_type": "markdown",
   "id": "0d9ce1e7-2c58-41fc-b5fc-d118506ce339",
   "metadata": {},
   "source": [
    "## Packages and Options"
   ]
  },
  {
   "cell_type": "code",
   "execution_count": 15,
   "id": "b2e708f2-6a7a-4b47-8b64-5cdc16c6e02b",
   "metadata": {},
   "outputs": [],
   "source": [
    "import pandas as pd\n",
    "\n",
    "from IPython.core.interactiveshell import InteractiveShell\n",
    "InteractiveShell.ast_node_interactivity = \"all\"\n",
    "\n",
    "pd.set_option('display.max_rows', 500)"
   ]
  },
  {
   "cell_type": "markdown",
   "id": "4b7d68bc-4763-4cf8-84e6-fc0c36403eec",
   "metadata": {},
   "source": [
    "## Read in Data"
   ]
  },
  {
   "cell_type": "code",
   "execution_count": 2,
   "id": "6e8aad4c-7e7c-494a-b11c-5d5e8a1dc3d9",
   "metadata": {},
   "outputs": [
    {
     "data": {
      "text/html": [
       "<div>\n",
       "<style scoped>\n",
       "    .dataframe tbody tr th:only-of-type {\n",
       "        vertical-align: middle;\n",
       "    }\n",
       "\n",
       "    .dataframe tbody tr th {\n",
       "        vertical-align: top;\n",
       "    }\n",
       "\n",
       "    .dataframe thead th {\n",
       "        text-align: right;\n",
       "    }\n",
       "</style>\n",
       "<table border=\"1\" class=\"dataframe\">\n",
       "  <thead>\n",
       "    <tr style=\"text-align: right;\">\n",
       "      <th></th>\n",
       "      <th>CHR</th>\n",
       "      <th>START</th>\n",
       "      <th>END</th>\n",
       "    </tr>\n",
       "  </thead>\n",
       "  <tbody>\n",
       "    <tr>\n",
       "      <th>0</th>\n",
       "      <td>chr1</td>\n",
       "      <td>0</td>\n",
       "      <td>50536</td>\n",
       "    </tr>\n",
       "    <tr>\n",
       "      <th>1</th>\n",
       "      <td>chr1</td>\n",
       "      <td>56033</td>\n",
       "      <td>56529</td>\n",
       "    </tr>\n",
       "    <tr>\n",
       "      <th>2</th>\n",
       "      <td>chr1</td>\n",
       "      <td>60536</td>\n",
       "      <td>82500</td>\n",
       "    </tr>\n",
       "    <tr>\n",
       "      <th>3</th>\n",
       "      <td>chr1</td>\n",
       "      <td>92846</td>\n",
       "      <td>126395</td>\n",
       "    </tr>\n",
       "    <tr>\n",
       "      <th>4</th>\n",
       "      <td>chr1</td>\n",
       "      <td>136395</td>\n",
       "      <td>177709</td>\n",
       "    </tr>\n",
       "    <tr>\n",
       "      <th>...</th>\n",
       "      <td>...</td>\n",
       "      <td>...</td>\n",
       "      <td>...</td>\n",
       "    </tr>\n",
       "    <tr>\n",
       "      <th>190926</th>\n",
       "      <td>chrY</td>\n",
       "      <td>56872741</td>\n",
       "      <td>56873254</td>\n",
       "    </tr>\n",
       "    <tr>\n",
       "      <th>190927</th>\n",
       "      <td>chrY</td>\n",
       "      <td>56873557</td>\n",
       "      <td>56875175</td>\n",
       "    </tr>\n",
       "    <tr>\n",
       "      <th>190928</th>\n",
       "      <td>chrY</td>\n",
       "      <td>56877477</td>\n",
       "      <td>56878064</td>\n",
       "    </tr>\n",
       "    <tr>\n",
       "      <th>190929</th>\n",
       "      <td>chrY</td>\n",
       "      <td>56878522</td>\n",
       "      <td>56878896</td>\n",
       "    </tr>\n",
       "    <tr>\n",
       "      <th>190930</th>\n",
       "      <td>chrY</td>\n",
       "      <td>56879230</td>\n",
       "      <td>56880082</td>\n",
       "    </tr>\n",
       "  </tbody>\n",
       "</table>\n",
       "<p>190931 rows × 3 columns</p>\n",
       "</div>"
      ],
      "text/plain": [
       "         CHR     START       END\n",
       "0       chr1         0     50536\n",
       "1       chr1     56033     56529\n",
       "2       chr1     60536     82500\n",
       "3       chr1     92846    126395\n",
       "4       chr1    136395    177709\n",
       "...      ...       ...       ...\n",
       "190926  chrY  56872741  56873254\n",
       "190927  chrY  56873557  56875175\n",
       "190928  chrY  56877477  56878064\n",
       "190929  chrY  56878522  56878896\n",
       "190930  chrY  56879230  56880082\n",
       "\n",
       "[190931 rows x 3 columns]"
      ]
     },
     "execution_count": 2,
     "metadata": {},
     "output_type": "execute_result"
    }
   ],
   "source": [
    "all_regions = pd.read_csv(\n",
    "\"/home/yraghav/CHDI-NeuroLINCS-Multi-Epigenomics-Annotation/analysis/1_get_consensus_peaks/output/regions.tsv\", \n",
    "sep=\"\\t\"\n",
    ").astype({'START':'int32', 'END':'int32'})\n",
    "\n",
    "all_regions"
   ]
  },
  {
   "cell_type": "code",
   "execution_count": 3,
   "id": "6c79db80-dd54-45ef-ae65-3a7fdbede01d",
   "metadata": {},
   "outputs": [],
   "source": [
    "chromosomes = all_regions[\"CHR\"]\n",
    "start_coordinates = all_regions[\"START\"]\n",
    "end_coordinates = all_regions[\"END\"]"
   ]
  },
  {
   "cell_type": "markdown",
   "id": "42c9af0e-f84a-4222-a823-b7a99c560d02",
   "metadata": {},
   "source": [
    "## Create 200 Base Pair Regions from Input BED File"
   ]
  },
  {
   "cell_type": "code",
   "execution_count": 4,
   "id": "7acb16ef-5ad0-4c86-83fc-3f34989ab901",
   "metadata": {},
   "outputs": [],
   "source": [
    "new_chr_list = []\n",
    "new_start_list = []\n",
    "new_end_list = []\n",
    "identifier_list=[]\n",
    "\n",
    "counter = 1\n",
    "\n",
    "for i in range(0, len(end_coordinates)): \n",
    "    \n",
    "    tmp_start = start_coordinates[i]\n",
    "    tmp_end = end_coordinates[i]\n",
    "    \n",
    "    for _ in range(0, ((tmp_end-tmp_start)//200)): \n",
    "        new_chr_list.append(chromosomes[i])\n",
    "        new_start_list.append(tmp_start)\n",
    "        new_end_list.append(tmp_start+200)\n",
    "        identifier_list.append(\"R{}\".format(str(counter)))\n",
    "        \n",
    "        tmp_start += 200\n",
    "        counter+=1\n",
    "    \n",
    "    if tmp_end - tmp_start > 0: \n",
    "        new_chr_list.append(chromosomes[i])\n",
    "        new_start_list.append(tmp_start)\n",
    "        new_end_list.append(tmp_end)\n",
    "        identifier_list.append(\"R{}\".format(str(counter)))\n",
    "        \n",
    "        counter+=1\n",
    "            "
   ]
  },
  {
   "cell_type": "code",
   "execution_count": 5,
   "id": "96594445-03fb-4ae0-b530-170b3fb22534",
   "metadata": {},
   "outputs": [],
   "source": [
    "input_regions = pd.DataFrame([new_chr_list, new_start_list, new_end_list, identifier_list]).T"
   ]
  },
  {
   "cell_type": "code",
   "execution_count": 6,
   "id": "8ae94268-dd1c-49fd-8740-e70776b60af8",
   "metadata": {},
   "outputs": [
    {
     "data": {
      "text/html": [
       "<div>\n",
       "<style scoped>\n",
       "    .dataframe tbody tr th:only-of-type {\n",
       "        vertical-align: middle;\n",
       "    }\n",
       "\n",
       "    .dataframe tbody tr th {\n",
       "        vertical-align: top;\n",
       "    }\n",
       "\n",
       "    .dataframe thead th {\n",
       "        text-align: right;\n",
       "    }\n",
       "</style>\n",
       "<table border=\"1\" class=\"dataframe\">\n",
       "  <thead>\n",
       "    <tr style=\"text-align: right;\">\n",
       "      <th></th>\n",
       "      <th>0</th>\n",
       "      <th>1</th>\n",
       "      <th>2</th>\n",
       "      <th>3</th>\n",
       "    </tr>\n",
       "  </thead>\n",
       "  <tbody>\n",
       "    <tr>\n",
       "      <th>0</th>\n",
       "      <td>chr1</td>\n",
       "      <td>0</td>\n",
       "      <td>200</td>\n",
       "      <td>R1</td>\n",
       "    </tr>\n",
       "    <tr>\n",
       "      <th>1</th>\n",
       "      <td>chr1</td>\n",
       "      <td>200</td>\n",
       "      <td>400</td>\n",
       "      <td>R2</td>\n",
       "    </tr>\n",
       "    <tr>\n",
       "      <th>2</th>\n",
       "      <td>chr1</td>\n",
       "      <td>400</td>\n",
       "      <td>600</td>\n",
       "      <td>R3</td>\n",
       "    </tr>\n",
       "    <tr>\n",
       "      <th>3</th>\n",
       "      <td>chr1</td>\n",
       "      <td>600</td>\n",
       "      <td>800</td>\n",
       "      <td>R4</td>\n",
       "    </tr>\n",
       "    <tr>\n",
       "      <th>4</th>\n",
       "      <td>chr1</td>\n",
       "      <td>800</td>\n",
       "      <td>1000</td>\n",
       "      <td>R5</td>\n",
       "    </tr>\n",
       "  </tbody>\n",
       "</table>\n",
       "</div>"
      ],
      "text/plain": [
       "      0    1     2   3\n",
       "0  chr1    0   200  R1\n",
       "1  chr1  200   400  R2\n",
       "2  chr1  400   600  R3\n",
       "3  chr1  600   800  R4\n",
       "4  chr1  800  1000  R5"
      ]
     },
     "execution_count": 6,
     "metadata": {},
     "output_type": "execute_result"
    },
    {
     "data": {
      "text/html": [
       "<div>\n",
       "<style scoped>\n",
       "    .dataframe tbody tr th:only-of-type {\n",
       "        vertical-align: middle;\n",
       "    }\n",
       "\n",
       "    .dataframe tbody tr th {\n",
       "        vertical-align: top;\n",
       "    }\n",
       "\n",
       "    .dataframe thead th {\n",
       "        text-align: right;\n",
       "    }\n",
       "</style>\n",
       "<table border=\"1\" class=\"dataframe\">\n",
       "  <thead>\n",
       "    <tr style=\"text-align: right;\">\n",
       "      <th></th>\n",
       "      <th>0</th>\n",
       "      <th>1</th>\n",
       "      <th>2</th>\n",
       "      <th>3</th>\n",
       "    </tr>\n",
       "  </thead>\n",
       "  <tbody>\n",
       "    <tr>\n",
       "      <th>11454527</th>\n",
       "      <td>chrY</td>\n",
       "      <td>56879230</td>\n",
       "      <td>56879430</td>\n",
       "      <td>R11454528</td>\n",
       "    </tr>\n",
       "    <tr>\n",
       "      <th>11454528</th>\n",
       "      <td>chrY</td>\n",
       "      <td>56879430</td>\n",
       "      <td>56879630</td>\n",
       "      <td>R11454529</td>\n",
       "    </tr>\n",
       "    <tr>\n",
       "      <th>11454529</th>\n",
       "      <td>chrY</td>\n",
       "      <td>56879630</td>\n",
       "      <td>56879830</td>\n",
       "      <td>R11454530</td>\n",
       "    </tr>\n",
       "    <tr>\n",
       "      <th>11454530</th>\n",
       "      <td>chrY</td>\n",
       "      <td>56879830</td>\n",
       "      <td>56880030</td>\n",
       "      <td>R11454531</td>\n",
       "    </tr>\n",
       "    <tr>\n",
       "      <th>11454531</th>\n",
       "      <td>chrY</td>\n",
       "      <td>56880030</td>\n",
       "      <td>56880082</td>\n",
       "      <td>R11454532</td>\n",
       "    </tr>\n",
       "  </tbody>\n",
       "</table>\n",
       "</div>"
      ],
      "text/plain": [
       "             0         1         2          3\n",
       "11454527  chrY  56879230  56879430  R11454528\n",
       "11454528  chrY  56879430  56879630  R11454529\n",
       "11454529  chrY  56879630  56879830  R11454530\n",
       "11454530  chrY  56879830  56880030  R11454531\n",
       "11454531  chrY  56880030  56880082  R11454532"
      ]
     },
     "execution_count": 6,
     "metadata": {},
     "output_type": "execute_result"
    }
   ],
   "source": [
    "input_regions.head()\n",
    "input_regions.tail()"
   ]
  },
  {
   "cell_type": "markdown",
   "id": "a4b63f36-9855-4247-ad21-1d4f4e76c05e",
   "metadata": {},
   "source": [
    "## Make sure Identifier Region IDs are Unique"
   ]
  },
  {
   "cell_type": "code",
   "execution_count": 10,
   "id": "8e3e083f-b9b4-4b3c-bcb4-0ee3c309ec29",
   "metadata": {},
   "outputs": [
    {
     "data": {
      "text/plain": [
       "1    11454532\n",
       "Name: 3, dtype: int64"
      ]
     },
     "execution_count": 10,
     "metadata": {},
     "output_type": "execute_result"
    }
   ],
   "source": [
    "input_regions[3].value_counts().value_counts()"
   ]
  },
  {
   "cell_type": "markdown",
   "id": "bb89255d-a0a2-4ffa-aa96-4b45f4deb1ae",
   "metadata": {},
   "source": [
    "## Output Regions to File"
   ]
  },
  {
   "cell_type": "code",
   "execution_count": 8,
   "id": "d177ff1e-573e-4eea-ae44-aba09685e649",
   "metadata": {},
   "outputs": [],
   "source": [
    "input_regions.to_csv(\n",
    "    \"/home/yraghav/CHDI-NeuroLINCS-Multi-Epigenomics-Annotation/analysis/2_define_input_regions/output/all_regions.bed\",\n",
    "    sep=\" \", \n",
    "    header=False, \n",
    "    index=False\n",
    ")"
   ]
  }
 ],
 "metadata": {
  "kernelspec": {
   "display_name": "Python 3",
   "language": "python",
   "name": "python3"
  },
  "language_info": {
   "codemirror_mode": {
    "name": "ipython",
    "version": 3
   },
   "file_extension": ".py",
   "mimetype": "text/x-python",
   "name": "python",
   "nbconvert_exporter": "python",
   "pygments_lexer": "ipython3",
   "version": "3.9.4"
  }
 },
 "nbformat": 4,
 "nbformat_minor": 5
}
