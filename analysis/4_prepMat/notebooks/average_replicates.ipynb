{
 "cells": [
  {
   "cell_type": "markdown",
   "id": "d74c7ea6-87bb-4923-ba43-ea1f61943dc7",
   "metadata": {},
   "source": [
    "# Average & Normalize Replicates "
   ]
  },
  {
   "cell_type": "markdown",
   "id": "14c63988-3cdb-4f1f-8170-f65159568266",
   "metadata": {},
   "source": [
    "## Purpose:"
   ]
  },
  {
   "cell_type": "markdown",
   "id": "c47cf109-1419-406f-8c39-5cb4d18745cf",
   "metadata": {},
   "source": [
    "* "
   ]
  },
  {
   "cell_type": "markdown",
   "id": "283b22c6-0bea-4c44-92f8-3e204217bdf3",
   "metadata": {},
   "source": [
    "## Packages and Options"
   ]
  },
  {
   "cell_type": "code",
   "execution_count": 36,
   "id": "36f6b5eb-4d95-4481-9232-819e38bfb843",
   "metadata": {},
   "outputs": [],
   "source": [
    "import glob, gzip, numpy, sys, scipy.stats\n",
    "import pandas as pd\n",
    "\n",
    "pd.set_option(\"max_colwidth\", 500)\n",
    "\n",
    "\n",
    "from IPython.core.interactiveshell import InteractiveShell\n",
    "InteractiveShell.ast_node_interactivity = \"all\""
   ]
  },
  {
   "cell_type": "code",
   "execution_count": 4,
   "id": "b1eb9317-0c13-408e-925e-e32193a72331",
   "metadata": {},
   "outputs": [
    {
     "data": {
      "text/plain": [
       "['/home/yraghav/CHDI-NeuroLINCS-Multi-Epigenomics-Annotation/analysis/4_prepMat/output/bed_files/73-21-KD.ATAC_rep2.bed.gz',\n",
       " '/home/yraghav/CHDI-NeuroLINCS-Multi-Epigenomics-Annotation/analysis/4_prepMat/output/bed_files/20-20.H3K4me1_rep2.bed.gz',\n",
       " '/home/yraghav/CHDI-NeuroLINCS-Multi-Epigenomics-Annotation/analysis/4_prepMat/output/bed_files/KO.ATAC_rep1.bed.gz',\n",
       " '/home/yraghav/CHDI-NeuroLINCS-Multi-Epigenomics-Annotation/analysis/4_prepMat/output/bed_files/22-20.ATAC_rep1.bed.gz',\n",
       " '/home/yraghav/CHDI-NeuroLINCS-Multi-Epigenomics-Annotation/analysis/4_prepMat/output/bed_files/22-20.H3K27Ac_rep1.bed.gz',\n",
       " '/home/yraghav/CHDI-NeuroLINCS-Multi-Epigenomics-Annotation/analysis/4_prepMat/output/bed_files/22-20.H3K27me3_rep2.bed.gz',\n",
       " '/home/yraghav/CHDI-NeuroLINCS-Multi-Epigenomics-Annotation/analysis/4_prepMat/output/bed_files/22-20.H3K4me3_rep1.bed.gz',\n",
       " '/home/yraghav/CHDI-NeuroLINCS-Multi-Epigenomics-Annotation/analysis/4_prepMat/output/bed_files/56-22.H3K27Ac_rep3.bed.gz',\n",
       " '/home/yraghav/CHDI-NeuroLINCS-Multi-Epigenomics-Annotation/analysis/4_prepMat/output/bed_files/56-22.H3K27me3_rep1.bed.gz',\n",
       " '/home/yraghav/CHDI-NeuroLINCS-Multi-Epigenomics-Annotation/analysis/4_prepMat/output/bed_files/56-22.H3K4me3_rep2.bed.gz',\n",
       " '/home/yraghav/CHDI-NeuroLINCS-Multi-Epigenomics-Annotation/analysis/4_prepMat/output/bed_files/72-20.H3K27Ac_rep3.bed.gz',\n",
       " '/home/yraghav/CHDI-NeuroLINCS-Multi-Epigenomics-Annotation/analysis/4_prepMat/output/bed_files/73-21-KD.H3K4me1_rep3.bed.gz',\n",
       " '/home/yraghav/CHDI-NeuroLINCS-Multi-Epigenomics-Annotation/analysis/4_prepMat/output/bed_files/20-20.H3K4me3_rep3.bed.gz',\n",
       " '/home/yraghav/CHDI-NeuroLINCS-Multi-Epigenomics-Annotation/analysis/4_prepMat/output/bed_files/73-21-KD.H3K4me1_rep1.bed.gz',\n",
       " '/home/yraghav/CHDI-NeuroLINCS-Multi-Epigenomics-Annotation/analysis/4_prepMat/output/bed_files/22-20.H3K27me3_rep1-1.bed.gz',\n",
       " '/home/yraghav/CHDI-NeuroLINCS-Multi-Epigenomics-Annotation/analysis/4_prepMat/output/bed_files/72-20.H3K4me1_rep3.bed.gz',\n",
       " '/home/yraghav/CHDI-NeuroLINCS-Multi-Epigenomics-Annotation/analysis/4_prepMat/output/bed_files/73-21.ATAC_rep2.bed.gz',\n",
       " '/home/yraghav/CHDI-NeuroLINCS-Multi-Epigenomics-Annotation/analysis/4_prepMat/output/bed_files/56-22.H3K4me1_rep1-1.bed.gz',\n",
       " '/home/yraghav/CHDI-NeuroLINCS-Multi-Epigenomics-Annotation/analysis/4_prepMat/output/bed_files/56-22.H3K4me3_rep1.bed.gz',\n",
       " '/home/yraghav/CHDI-NeuroLINCS-Multi-Epigenomics-Annotation/analysis/4_prepMat/output/bed_files/72-20.H3K4me3_rep3.bed.gz',\n",
       " '/home/yraghav/CHDI-NeuroLINCS-Multi-Epigenomics-Annotation/analysis/4_prepMat/output/bed_files/73-21-KD.H3K4me3_rep3.bed.gz',\n",
       " '/home/yraghav/CHDI-NeuroLINCS-Multi-Epigenomics-Annotation/analysis/4_prepMat/output/bed_files/20-20.ATAC_rep1.bed.gz',\n",
       " '/home/yraghav/CHDI-NeuroLINCS-Multi-Epigenomics-Annotation/analysis/4_prepMat/output/bed_files/20-20.H3K4me3_rep2.bed.gz',\n",
       " '/home/yraghav/CHDI-NeuroLINCS-Multi-Epigenomics-Annotation/analysis/4_prepMat/output/bed_files/22-20.H3K27Ac_rep3.bed.gz',\n",
       " '/home/yraghav/CHDI-NeuroLINCS-Multi-Epigenomics-Annotation/analysis/4_prepMat/output/bed_files/56-22.ATAC_rep3.bed.gz',\n",
       " '/home/yraghav/CHDI-NeuroLINCS-Multi-Epigenomics-Annotation/analysis/4_prepMat/output/bed_files/KO.ATAC_rep2.bed.gz',\n",
       " '/home/yraghav/CHDI-NeuroLINCS-Multi-Epigenomics-Annotation/analysis/4_prepMat/output/bed_files/56-22.ATAC_rep1.bed.gz',\n",
       " '/home/yraghav/CHDI-NeuroLINCS-Multi-Epigenomics-Annotation/analysis/4_prepMat/output/bed_files/72-20.ATAC_rep3.bed.gz',\n",
       " '/home/yraghav/CHDI-NeuroLINCS-Multi-Epigenomics-Annotation/analysis/4_prepMat/output/bed_files/KO.ATAC_rep3.bed.gz',\n",
       " '/home/yraghav/CHDI-NeuroLINCS-Multi-Epigenomics-Annotation/analysis/4_prepMat/output/bed_files/72-20.H3K27Ac_rep2.bed.gz',\n",
       " '/home/yraghav/CHDI-NeuroLINCS-Multi-Epigenomics-Annotation/analysis/4_prepMat/output/bed_files/73-21-KD.H3K27me3_rep1.bed.gz',\n",
       " '/home/yraghav/CHDI-NeuroLINCS-Multi-Epigenomics-Annotation/analysis/4_prepMat/output/bed_files/20-20.ATAC_rep2.bed.gz',\n",
       " '/home/yraghav/CHDI-NeuroLINCS-Multi-Epigenomics-Annotation/analysis/4_prepMat/output/bed_files/20-20.H3K4me3_rep1.bed.gz',\n",
       " '/home/yraghav/CHDI-NeuroLINCS-Multi-Epigenomics-Annotation/analysis/4_prepMat/output/bed_files/22-20.H3K27Ac_rep2.bed.gz',\n",
       " '/home/yraghav/CHDI-NeuroLINCS-Multi-Epigenomics-Annotation/analysis/4_prepMat/output/bed_files/22-20.H3K27me3_rep1.bed.gz',\n",
       " '/home/yraghav/CHDI-NeuroLINCS-Multi-Epigenomics-Annotation/analysis/4_prepMat/output/bed_files/22-20.H3K4me1_rep1.bed.gz',\n",
       " '/home/yraghav/CHDI-NeuroLINCS-Multi-Epigenomics-Annotation/analysis/4_prepMat/output/bed_files/73-21-KD.H3K4me3_rep1.bed.gz',\n",
       " '/home/yraghav/CHDI-NeuroLINCS-Multi-Epigenomics-Annotation/analysis/4_prepMat/output/bed_files/56-22.H3K27me3_rep3.bed.gz',\n",
       " '/home/yraghav/CHDI-NeuroLINCS-Multi-Epigenomics-Annotation/analysis/4_prepMat/output/bed_files/56-22.H3K4me1_rep2.bed.gz',\n",
       " '/home/yraghav/CHDI-NeuroLINCS-Multi-Epigenomics-Annotation/analysis/4_prepMat/output/bed_files/72-20.ATAC_rep1.bed.gz',\n",
       " '/home/yraghav/CHDI-NeuroLINCS-Multi-Epigenomics-Annotation/analysis/4_prepMat/output/bed_files/73-21-KD.H3K27Ac_rep3.bed.gz',\n",
       " '/home/yraghav/CHDI-NeuroLINCS-Multi-Epigenomics-Annotation/analysis/4_prepMat/output/bed_files/20-20.ATAC_rep3.bed.gz',\n",
       " '/home/yraghav/CHDI-NeuroLINCS-Multi-Epigenomics-Annotation/analysis/4_prepMat/output/bed_files/73-21.H3K27Ac_rep1.bed.gz',\n",
       " '/home/yraghav/CHDI-NeuroLINCS-Multi-Epigenomics-Annotation/analysis/4_prepMat/output/bed_files/20-20.H3K27Ac_rep2-1.bed.gz',\n",
       " '/home/yraghav/CHDI-NeuroLINCS-Multi-Epigenomics-Annotation/analysis/4_prepMat/output/bed_files/73-21.H3K27Ac_rep2.bed.gz',\n",
       " '/home/yraghav/CHDI-NeuroLINCS-Multi-Epigenomics-Annotation/analysis/4_prepMat/output/bed_files/20-20.H3K27me3_rep1.bed.gz',\n",
       " '/home/yraghav/CHDI-NeuroLINCS-Multi-Epigenomics-Annotation/analysis/4_prepMat/output/bed_files/73-21.H3K27Ac_rep3.bed.gz',\n",
       " '/home/yraghav/CHDI-NeuroLINCS-Multi-Epigenomics-Annotation/analysis/4_prepMat/output/bed_files/20-20.H3K4me1_rep1.bed.gz',\n",
       " '/home/yraghav/CHDI-NeuroLINCS-Multi-Epigenomics-Annotation/analysis/4_prepMat/output/bed_files/22-20.ATAC_rep2.bed.gz',\n",
       " '/home/yraghav/CHDI-NeuroLINCS-Multi-Epigenomics-Annotation/analysis/4_prepMat/output/bed_files/22-20.H3K27me3_rep3.bed.gz',\n",
       " '/home/yraghav/CHDI-NeuroLINCS-Multi-Epigenomics-Annotation/analysis/4_prepMat/output/bed_files/22-20.H3K4me1_rep3.bed.gz',\n",
       " '/home/yraghav/CHDI-NeuroLINCS-Multi-Epigenomics-Annotation/analysis/4_prepMat/output/bed_files/22-20.H3K4me3_rep2.bed.gz',\n",
       " '/home/yraghav/CHDI-NeuroLINCS-Multi-Epigenomics-Annotation/analysis/4_prepMat/output/bed_files/56-22.H3K27Ac_rep1.bed.gz',\n",
       " '/home/yraghav/CHDI-NeuroLINCS-Multi-Epigenomics-Annotation/analysis/4_prepMat/output/bed_files/72-20.H3K27me3_rep1.bed.gz',\n",
       " '/home/yraghav/CHDI-NeuroLINCS-Multi-Epigenomics-Annotation/analysis/4_prepMat/output/bed_files/73-21.ATAC_rep3.bed.gz',\n",
       " '/home/yraghav/CHDI-NeuroLINCS-Multi-Epigenomics-Annotation/analysis/4_prepMat/output/bed_files/73-21-KD.H3K27me3_rep3.bed.gz',\n",
       " '/home/yraghav/CHDI-NeuroLINCS-Multi-Epigenomics-Annotation/analysis/4_prepMat/output/bed_files/20-20.H3K27Ac_rep1.bed.gz',\n",
       " '/home/yraghav/CHDI-NeuroLINCS-Multi-Epigenomics-Annotation/analysis/4_prepMat/output/bed_files/20-20.H3K27Ac_rep3.bed.gz',\n",
       " '/home/yraghav/CHDI-NeuroLINCS-Multi-Epigenomics-Annotation/analysis/4_prepMat/output/bed_files/73-21.H3K27me3_rep1-1.bed.gz',\n",
       " '/home/yraghav/CHDI-NeuroLINCS-Multi-Epigenomics-Annotation/analysis/4_prepMat/output/bed_files/20-20.H3K27me3_rep2.bed.gz',\n",
       " '/home/yraghav/CHDI-NeuroLINCS-Multi-Epigenomics-Annotation/analysis/4_prepMat/output/bed_files/73-21.ATAC_rep1.bed.gz',\n",
       " '/home/yraghav/CHDI-NeuroLINCS-Multi-Epigenomics-Annotation/analysis/4_prepMat/output/bed_files/72-20.ATAC_rep2.bed.gz',\n",
       " '/home/yraghav/CHDI-NeuroLINCS-Multi-Epigenomics-Annotation/analysis/4_prepMat/output/bed_files/73-21-KD.H3K27Ac_rep2.bed.gz',\n",
       " '/home/yraghav/CHDI-NeuroLINCS-Multi-Epigenomics-Annotation/analysis/4_prepMat/output/bed_files/22-20.H3K4me1_rep3-1.bed.gz',\n",
       " '/home/yraghav/CHDI-NeuroLINCS-Multi-Epigenomics-Annotation/analysis/4_prepMat/output/bed_files/22-20.H3K4me3_rep3.bed.gz',\n",
       " '/home/yraghav/CHDI-NeuroLINCS-Multi-Epigenomics-Annotation/analysis/4_prepMat/output/bed_files/56-22.H3K27Ac_rep2.bed.gz',\n",
       " '/home/yraghav/CHDI-NeuroLINCS-Multi-Epigenomics-Annotation/analysis/4_prepMat/output/bed_files/56-22.H3K4me1_rep3.bed.gz',\n",
       " '/home/yraghav/CHDI-NeuroLINCS-Multi-Epigenomics-Annotation/analysis/4_prepMat/output/bed_files/56-22.H3K4me3_rep3.bed.gz',\n",
       " '/home/yraghav/CHDI-NeuroLINCS-Multi-Epigenomics-Annotation/analysis/4_prepMat/output/bed_files/72-20.H3K4me3_rep1.bed.gz',\n",
       " '/home/yraghav/CHDI-NeuroLINCS-Multi-Epigenomics-Annotation/analysis/4_prepMat/output/bed_files/20-20.H3K27Ac_rep2.bed.gz',\n",
       " '/home/yraghav/CHDI-NeuroLINCS-Multi-Epigenomics-Annotation/analysis/4_prepMat/output/bed_files/56-22.ATAC_rep2.bed.gz',\n",
       " '/home/yraghav/CHDI-NeuroLINCS-Multi-Epigenomics-Annotation/analysis/4_prepMat/output/bed_files/56-22.H3K27me3_rep2.bed.gz',\n",
       " '/home/yraghav/CHDI-NeuroLINCS-Multi-Epigenomics-Annotation/analysis/4_prepMat/output/bed_files/56-22.H3K4me1_rep1.bed.gz',\n",
       " '/home/yraghav/CHDI-NeuroLINCS-Multi-Epigenomics-Annotation/analysis/4_prepMat/output/bed_files/72-20.H3K27Ac_rep1.bed.gz',\n",
       " '/home/yraghav/CHDI-NeuroLINCS-Multi-Epigenomics-Annotation/analysis/4_prepMat/output/bed_files/73-21-KD.H3K27me3_rep2.bed.gz',\n",
       " '/home/yraghav/CHDI-NeuroLINCS-Multi-Epigenomics-Annotation/analysis/4_prepMat/output/bed_files/20-20.H3K27Ac_rep3-1.bed.gz',\n",
       " '/home/yraghav/CHDI-NeuroLINCS-Multi-Epigenomics-Annotation/analysis/4_prepMat/output/bed_files/20-20.H3K27me3_rep3-1.bed.gz',\n",
       " '/home/yraghav/CHDI-NeuroLINCS-Multi-Epigenomics-Annotation/analysis/4_prepMat/output/bed_files/20-20.H3K4me1_rep3.bed.gz',\n",
       " '/home/yraghav/CHDI-NeuroLINCS-Multi-Epigenomics-Annotation/analysis/4_prepMat/output/bed_files/22-20.H3K4me1_rep2.bed.gz',\n",
       " '/home/yraghav/CHDI-NeuroLINCS-Multi-Epigenomics-Annotation/analysis/4_prepMat/output/bed_files/72-20.H3K27me3_rep3.bed.gz',\n",
       " '/home/yraghav/CHDI-NeuroLINCS-Multi-Epigenomics-Annotation/analysis/4_prepMat/output/bed_files/72-20.H3K4me1_rep2.bed.gz',\n",
       " '/home/yraghav/CHDI-NeuroLINCS-Multi-Epigenomics-Annotation/analysis/4_prepMat/output/bed_files/73-21-KD.ATAC_rep1.bed.gz',\n",
       " '/home/yraghav/CHDI-NeuroLINCS-Multi-Epigenomics-Annotation/analysis/4_prepMat/output/bed_files/72-20.H3K4me1_rep1.bed.gz',\n",
       " '/home/yraghav/CHDI-NeuroLINCS-Multi-Epigenomics-Annotation/analysis/4_prepMat/output/bed_files/72-20.H3K4me3_rep2.bed.gz',\n",
       " '/home/yraghav/CHDI-NeuroLINCS-Multi-Epigenomics-Annotation/analysis/4_prepMat/output/bed_files/73-21-KD.H3K27Ac_rep1.bed.gz',\n",
       " '/home/yraghav/CHDI-NeuroLINCS-Multi-Epigenomics-Annotation/analysis/4_prepMat/output/bed_files/72-20.H3K27me3_rep2.bed.gz',\n",
       " '/home/yraghav/CHDI-NeuroLINCS-Multi-Epigenomics-Annotation/analysis/4_prepMat/output/bed_files/22-20.ATAC_rep3.bed.gz',\n",
       " '/home/yraghav/CHDI-NeuroLINCS-Multi-Epigenomics-Annotation/analysis/4_prepMat/output/bed_files/73-21-KD.ATAC_rep3.bed.gz',\n",
       " '/home/yraghav/CHDI-NeuroLINCS-Multi-Epigenomics-Annotation/analysis/4_prepMat/output/bed_files/73-21-KD.H3K27me3_rep1-1.bed.gz',\n",
       " '/home/yraghav/CHDI-NeuroLINCS-Multi-Epigenomics-Annotation/analysis/4_prepMat/output/bed_files/73-21.H3K4me1_rep1.bed.gz',\n",
       " '/home/yraghav/CHDI-NeuroLINCS-Multi-Epigenomics-Annotation/analysis/4_prepMat/output/bed_files/KO.H3K27Ac_rep3.bed.gz',\n",
       " '/home/yraghav/CHDI-NeuroLINCS-Multi-Epigenomics-Annotation/analysis/4_prepMat/output/bed_files/KO.H3K27me3_rep3.bed.gz',\n",
       " '/home/yraghav/CHDI-NeuroLINCS-Multi-Epigenomics-Annotation/analysis/4_prepMat/output/bed_files/KO.H3K4me1_rep1.bed.gz',\n",
       " '/home/yraghav/CHDI-NeuroLINCS-Multi-Epigenomics-Annotation/analysis/4_prepMat/output/bed_files/73-21-KD.H3K4me1_rep3-1.bed.gz',\n",
       " '/home/yraghav/CHDI-NeuroLINCS-Multi-Epigenomics-Annotation/analysis/4_prepMat/output/bed_files/73-21.H3K4me1_rep3.bed.gz',\n",
       " '/home/yraghav/CHDI-NeuroLINCS-Multi-Epigenomics-Annotation/analysis/4_prepMat/output/bed_files/KO.H3K27Ac_rep2.bed.gz',\n",
       " '/home/yraghav/CHDI-NeuroLINCS-Multi-Epigenomics-Annotation/analysis/4_prepMat/output/bed_files/KO.H3K27me3_rep2.bed.gz',\n",
       " '/home/yraghav/CHDI-NeuroLINCS-Multi-Epigenomics-Annotation/analysis/4_prepMat/output/bed_files/KO.H3K4me3_rep3.bed.gz',\n",
       " '/home/yraghav/CHDI-NeuroLINCS-Multi-Epigenomics-Annotation/analysis/4_prepMat/output/bed_files/73-21-KD.H3K4me1_rep1-1.bed.gz',\n",
       " '/home/yraghav/CHDI-NeuroLINCS-Multi-Epigenomics-Annotation/analysis/4_prepMat/output/bed_files/73-21.H3K4me3_rep1.bed.gz',\n",
       " '/home/yraghav/CHDI-NeuroLINCS-Multi-Epigenomics-Annotation/analysis/4_prepMat/output/bed_files/KO.H3K27Ac_rep1.bed.gz',\n",
       " '/home/yraghav/CHDI-NeuroLINCS-Multi-Epigenomics-Annotation/analysis/4_prepMat/output/bed_files/KO.H3K27me3_rep1.bed.gz',\n",
       " '/home/yraghav/CHDI-NeuroLINCS-Multi-Epigenomics-Annotation/analysis/4_prepMat/output/bed_files/KO.H3K4me3_rep2.bed.gz',\n",
       " '/home/yraghav/CHDI-NeuroLINCS-Multi-Epigenomics-Annotation/analysis/4_prepMat/output/bed_files/73-21.H3K27me3_rep3.bed.gz',\n",
       " '/home/yraghav/CHDI-NeuroLINCS-Multi-Epigenomics-Annotation/analysis/4_prepMat/output/bed_files/73-21.H3K27me3_rep2.bed.gz',\n",
       " '/home/yraghav/CHDI-NeuroLINCS-Multi-Epigenomics-Annotation/analysis/4_prepMat/output/bed_files/KO.H3K27Ac_rep3-1.bed.gz',\n",
       " '/home/yraghav/CHDI-NeuroLINCS-Multi-Epigenomics-Annotation/analysis/4_prepMat/output/bed_files/KO.H3K27me3_rep1-1.bed.gz',\n",
       " '/home/yraghav/CHDI-NeuroLINCS-Multi-Epigenomics-Annotation/analysis/4_prepMat/output/bed_files/KO.H3K4me1_rep3.bed.gz',\n",
       " '/home/yraghav/CHDI-NeuroLINCS-Multi-Epigenomics-Annotation/analysis/4_prepMat/output/bed_files/KO.H3K4me3_rep1.bed.gz',\n",
       " '/home/yraghav/CHDI-NeuroLINCS-Multi-Epigenomics-Annotation/analysis/4_prepMat/output/bed_files/73-21.H3K27me3_rep1.bed.gz',\n",
       " '/home/yraghav/CHDI-NeuroLINCS-Multi-Epigenomics-Annotation/analysis/4_prepMat/output/bed_files/73-21.H3K4me3_rep3.bed.gz',\n",
       " '/home/yraghav/CHDI-NeuroLINCS-Multi-Epigenomics-Annotation/analysis/4_prepMat/output/bed_files/KO.H3K4me1_rep2.bed.gz',\n",
       " '/home/yraghav/CHDI-NeuroLINCS-Multi-Epigenomics-Annotation/analysis/4_prepMat/output/bed_files/KO.H3K4me3_rep1-1.bed.gz']"
      ]
     },
     "execution_count": 4,
     "metadata": {},
     "output_type": "execute_result"
    }
   ],
   "source": [
    "all_files = glob.glob(\"/home/yraghav/CHDI-NeuroLINCS-Multi-Epigenomics-Annotation/analysis/4_prepMat/output/bed_files/*.bed.gz\", recursive=True)\n",
    "\n",
    "all_files"
   ]
  },
  {
   "cell_type": "code",
   "execution_count": 5,
   "id": "2a628a8a-3a00-4412-9a1c-1c6a56ff1fac",
   "metadata": {},
   "outputs": [
    {
     "data": {
      "text/plain": [
       "[11454532]"
      ]
     },
     "execution_count": 5,
     "metadata": {},
     "output_type": "execute_result"
    }
   ],
   "source": [
    "lengths = []\n",
    "\n",
    "for file in all_files: \n",
    "    file = gzip.open(file, 'rb')\n",
    "    lengths.append(len(file.readlines()))\n",
    "    \n",
    "    \n",
    "list(set(lengths))"
   ]
  },
  {
   "cell_type": "code",
   "execution_count": 6,
   "id": "72d6739f-0c98-4580-af07-2a98fd0520f4",
   "metadata": {},
   "outputs": [],
   "source": [
    "lines = []\n",
    "marks = []\n",
    "\n",
    "for file in all_files: \n",
    "    lines.append(file.split(\"/\")[-1].split(\".\")[0])\n",
    "    marks.append(file.split(\"/\")[-1].split(\".\")[1].split(\"_\")[0])\n",
    "    \n",
    "lines = list(set(lines))\n",
    "marks = list(set(marks))\n"
   ]
  },
  {
   "cell_type": "code",
   "execution_count": 20,
   "id": "45ad6e02-a2ac-4ec0-824e-88dc147b8706",
   "metadata": {},
   "outputs": [
    {
     "data": {
      "text/plain": [
       "['22-20', '56-22', '72-20', '73-21', 'KO', '73-21-KD', '20-20']"
      ]
     },
     "execution_count": 20,
     "metadata": {},
     "output_type": "execute_result"
    },
    {
     "data": {
      "text/plain": [
       "['H3K27me3', 'ATAC', 'H3K27Ac', 'H3K4me1', 'H3K4me3']"
      ]
     },
     "execution_count": 20,
     "metadata": {},
     "output_type": "execute_result"
    }
   ],
   "source": [
    "lines \n",
    "marks"
   ]
  },
  {
   "cell_type": "code",
   "execution_count": null,
   "id": "8befcdc1-98a7-40d2-bdc4-4f04c6f5c21b",
   "metadata": {},
   "outputs": [
    {
     "data": {
      "text/plain": [
       "'22-20'"
      ]
     },
     "execution_count": 22,
     "metadata": {},
     "output_type": "execute_result"
    },
    {
     "data": {
      "text/plain": [
       "'H3K27me3'"
      ]
     },
     "execution_count": 22,
     "metadata": {},
     "output_type": "execute_result"
    }
   ],
   "source": [
    "matrix = pd.DataFrame()\n",
    "\n",
    "for line in lines:\n",
    "    \n",
    "    for mark in marks: \n",
    "        \n",
    "        line\n",
    "        mark\n",
    "        \n",
    "        line_mark_files = glob.glob(\n",
    "            \"/home/yraghav/CHDI-NeuroLINCS-Multi-Epigenomics-Annotation/analysis/4_prepMat/output/bed_files/*{}.{}*bed.gz\".format(\n",
    "                line, mark\n",
    "            )\n",
    "        )\n",
    "        \n",
    "        assert len(line_mark_files)>0, \"{} {}\".format(line, mark)\n",
    "        \n",
    "        for file in line_mark_files:\n",
    "            tmp_list = []\n",
    "            \n",
    "            with gzip.open(file, 'rb') as in_file: \n",
    "                for in_line in in_file: \n",
    "                    tmp_list.append(float(in_line.strip().decode(\"utf-8\")))\n",
    "                    \n",
    "            matrix[file.split(\"/\")[-1].strip(\".bed.gz\")] = tmp_list\n"
   ]
  },
  {
   "cell_type": "code",
   "execution_count": null,
   "id": "9ca81ad2-757d-4380-bf1a-0d8d7681711d",
   "metadata": {},
   "outputs": [
    {
     "data": {
      "text/plain": [
       "'22-20'"
      ]
     },
     "execution_count": 106,
     "metadata": {},
     "output_type": "execute_result"
    },
    {
     "data": {
      "text/plain": [
       "'H3K27me3'"
      ]
     },
     "execution_count": 106,
     "metadata": {},
     "output_type": "execute_result"
    },
    {
     "data": {
      "text/plain": [
       "'22-20'"
      ]
     },
     "execution_count": 106,
     "metadata": {},
     "output_type": "execute_result"
    },
    {
     "data": {
      "text/plain": [
       "'ATAC'"
      ]
     },
     "execution_count": 106,
     "metadata": {},
     "output_type": "execute_result"
    },
    {
     "data": {
      "text/plain": [
       "'22-20'"
      ]
     },
     "execution_count": 106,
     "metadata": {},
     "output_type": "execute_result"
    },
    {
     "data": {
      "text/plain": [
       "'H3K27Ac'"
      ]
     },
     "execution_count": 106,
     "metadata": {},
     "output_type": "execute_result"
    },
    {
     "data": {
      "text/plain": [
       "'22-20'"
      ]
     },
     "execution_count": 106,
     "metadata": {},
     "output_type": "execute_result"
    },
    {
     "data": {
      "text/plain": [
       "'H3K4me1'"
      ]
     },
     "execution_count": 106,
     "metadata": {},
     "output_type": "execute_result"
    },
    {
     "data": {
      "text/plain": [
       "'22-20'"
      ]
     },
     "execution_count": 106,
     "metadata": {},
     "output_type": "execute_result"
    },
    {
     "data": {
      "text/plain": [
       "'H3K4me3'"
      ]
     },
     "execution_count": 106,
     "metadata": {},
     "output_type": "execute_result"
    },
    {
     "data": {
      "text/plain": [
       "'56-22'"
      ]
     },
     "execution_count": 106,
     "metadata": {},
     "output_type": "execute_result"
    },
    {
     "data": {
      "text/plain": [
       "'H3K27me3'"
      ]
     },
     "execution_count": 106,
     "metadata": {},
     "output_type": "execute_result"
    },
    {
     "data": {
      "text/plain": [
       "'56-22'"
      ]
     },
     "execution_count": 106,
     "metadata": {},
     "output_type": "execute_result"
    },
    {
     "data": {
      "text/plain": [
       "'ATAC'"
      ]
     },
     "execution_count": 106,
     "metadata": {},
     "output_type": "execute_result"
    }
   ],
   "source": [
    "for line in lines:\n",
    "    \n",
    "    for mark in marks: \n",
    "        \n",
    "        line\n",
    "        mark\n",
    "        \n",
    "        with open(\n",
    "            \"/home/yraghav/CHDI-NeuroLINCS-Multi-Epigenomics-Annotation/analysis/4_prepMat/output/averaged_bed_files/{}.{}.txt\".format(line,mark), \n",
    "            'w'\n",
    "        ) as out_file: \n",
    "            \n",
    "            for index, row in matrix[[mark_line_combination for mark_line_combination in matrix.columns if \"{}.{}\".format(line, mark) in mark_line_combination]].iterrows():\n",
    "                 \n",
    "                _ = out_file.write(str(row.median()) + \"\\n\")\n",
    "                "
   ]
  },
  {
   "cell_type": "code",
   "execution_count": 107,
   "id": "81863974-bc96-434a-90c2-622ab7bc7d05",
   "metadata": {},
   "outputs": [
    {
     "name": "stderr",
     "output_type": "stream",
     "text": [
      "FutureWarning: The frame.append method is deprecated and will be removed from pandas in a future version. Use pandas.concat instead.\n"
     ]
    }
   ],
   "source": [
    "ideas_input = pd.DataFrame()\n",
    "\n",
    "for file in sorted(glob.glob(\"/home/yraghav/CHDI-NeuroLINCS-Multi-Epigenomics-Annotation/analysis/4_prepMat/output/averaged_bed_files/*.txt\")): \n",
    "    ideas_input = ideas_input.append(\n",
    "        pd.DataFrame(\n",
    "            [file.split(\"/\")[-1].split(\".\")[0], file.split(\"/\")[-1].split(\".\")[1], file]\n",
    "        ).T, \n",
    "        ignore_index=True\n",
    "    )\n",
    "    "
   ]
  },
  {
   "cell_type": "code",
   "execution_count": 108,
   "id": "10451b82-f43b-4c74-8e8b-122e200a41ae",
   "metadata": {},
   "outputs": [
    {
     "data": {
      "text/html": [
       "<div>\n",
       "<style scoped>\n",
       "    .dataframe tbody tr th:only-of-type {\n",
       "        vertical-align: middle;\n",
       "    }\n",
       "\n",
       "    .dataframe tbody tr th {\n",
       "        vertical-align: top;\n",
       "    }\n",
       "\n",
       "    .dataframe thead th {\n",
       "        text-align: right;\n",
       "    }\n",
       "</style>\n",
       "<table border=\"1\" class=\"dataframe\">\n",
       "  <thead>\n",
       "    <tr style=\"text-align: right;\">\n",
       "      <th></th>\n",
       "      <th>0</th>\n",
       "      <th>1</th>\n",
       "      <th>2</th>\n",
       "    </tr>\n",
       "  </thead>\n",
       "  <tbody>\n",
       "    <tr>\n",
       "      <th>0</th>\n",
       "      <td>20-20</td>\n",
       "      <td>ATAC</td>\n",
       "      <td>/home/yraghav/CHDI-NeuroLINCS-Multi-Epigenomics-Annotation/analysis/4_prepMat/output/averaged_bed_files/20-20.ATAC.txt</td>\n",
       "    </tr>\n",
       "    <tr>\n",
       "      <th>1</th>\n",
       "      <td>20-20</td>\n",
       "      <td>H3K27Ac</td>\n",
       "      <td>/home/yraghav/CHDI-NeuroLINCS-Multi-Epigenomics-Annotation/analysis/4_prepMat/output/averaged_bed_files/20-20.H3K27Ac.txt</td>\n",
       "    </tr>\n",
       "    <tr>\n",
       "      <th>2</th>\n",
       "      <td>20-20</td>\n",
       "      <td>H3K27me3</td>\n",
       "      <td>/home/yraghav/CHDI-NeuroLINCS-Multi-Epigenomics-Annotation/analysis/4_prepMat/output/averaged_bed_files/20-20.H3K27me3.txt</td>\n",
       "    </tr>\n",
       "    <tr>\n",
       "      <th>3</th>\n",
       "      <td>20-20</td>\n",
       "      <td>H3K4me1</td>\n",
       "      <td>/home/yraghav/CHDI-NeuroLINCS-Multi-Epigenomics-Annotation/analysis/4_prepMat/output/averaged_bed_files/20-20.H3K4me1.txt</td>\n",
       "    </tr>\n",
       "    <tr>\n",
       "      <th>4</th>\n",
       "      <td>20-20</td>\n",
       "      <td>H3K4me3</td>\n",
       "      <td>/home/yraghav/CHDI-NeuroLINCS-Multi-Epigenomics-Annotation/analysis/4_prepMat/output/averaged_bed_files/20-20.H3K4me3.txt</td>\n",
       "    </tr>\n",
       "    <tr>\n",
       "      <th>5</th>\n",
       "      <td>22-20</td>\n",
       "      <td>ATAC</td>\n",
       "      <td>/home/yraghav/CHDI-NeuroLINCS-Multi-Epigenomics-Annotation/analysis/4_prepMat/output/averaged_bed_files/22-20.ATAC.txt</td>\n",
       "    </tr>\n",
       "    <tr>\n",
       "      <th>6</th>\n",
       "      <td>22-20</td>\n",
       "      <td>H3K27Ac</td>\n",
       "      <td>/home/yraghav/CHDI-NeuroLINCS-Multi-Epigenomics-Annotation/analysis/4_prepMat/output/averaged_bed_files/22-20.H3K27Ac.txt</td>\n",
       "    </tr>\n",
       "    <tr>\n",
       "      <th>7</th>\n",
       "      <td>22-20</td>\n",
       "      <td>H3K27me3</td>\n",
       "      <td>/home/yraghav/CHDI-NeuroLINCS-Multi-Epigenomics-Annotation/analysis/4_prepMat/output/averaged_bed_files/22-20.H3K27me3.txt</td>\n",
       "    </tr>\n",
       "    <tr>\n",
       "      <th>8</th>\n",
       "      <td>22-20</td>\n",
       "      <td>H3K4me1</td>\n",
       "      <td>/home/yraghav/CHDI-NeuroLINCS-Multi-Epigenomics-Annotation/analysis/4_prepMat/output/averaged_bed_files/22-20.H3K4me1.txt</td>\n",
       "    </tr>\n",
       "    <tr>\n",
       "      <th>9</th>\n",
       "      <td>22-20</td>\n",
       "      <td>H3K4me3</td>\n",
       "      <td>/home/yraghav/CHDI-NeuroLINCS-Multi-Epigenomics-Annotation/analysis/4_prepMat/output/averaged_bed_files/22-20.H3K4me3.txt</td>\n",
       "    </tr>\n",
       "    <tr>\n",
       "      <th>10</th>\n",
       "      <td>56-22</td>\n",
       "      <td>ATAC</td>\n",
       "      <td>/home/yraghav/CHDI-NeuroLINCS-Multi-Epigenomics-Annotation/analysis/4_prepMat/output/averaged_bed_files/56-22.ATAC.txt</td>\n",
       "    </tr>\n",
       "    <tr>\n",
       "      <th>11</th>\n",
       "      <td>56-22</td>\n",
       "      <td>H3K27Ac</td>\n",
       "      <td>/home/yraghav/CHDI-NeuroLINCS-Multi-Epigenomics-Annotation/analysis/4_prepMat/output/averaged_bed_files/56-22.H3K27Ac.txt</td>\n",
       "    </tr>\n",
       "    <tr>\n",
       "      <th>12</th>\n",
       "      <td>56-22</td>\n",
       "      <td>H3K27me3</td>\n",
       "      <td>/home/yraghav/CHDI-NeuroLINCS-Multi-Epigenomics-Annotation/analysis/4_prepMat/output/averaged_bed_files/56-22.H3K27me3.txt</td>\n",
       "    </tr>\n",
       "    <tr>\n",
       "      <th>13</th>\n",
       "      <td>56-22</td>\n",
       "      <td>H3K4me1</td>\n",
       "      <td>/home/yraghav/CHDI-NeuroLINCS-Multi-Epigenomics-Annotation/analysis/4_prepMat/output/averaged_bed_files/56-22.H3K4me1.txt</td>\n",
       "    </tr>\n",
       "    <tr>\n",
       "      <th>14</th>\n",
       "      <td>56-22</td>\n",
       "      <td>H3K4me3</td>\n",
       "      <td>/home/yraghav/CHDI-NeuroLINCS-Multi-Epigenomics-Annotation/analysis/4_prepMat/output/averaged_bed_files/56-22.H3K4me3.txt</td>\n",
       "    </tr>\n",
       "    <tr>\n",
       "      <th>15</th>\n",
       "      <td>72-20</td>\n",
       "      <td>ATAC</td>\n",
       "      <td>/home/yraghav/CHDI-NeuroLINCS-Multi-Epigenomics-Annotation/analysis/4_prepMat/output/averaged_bed_files/72-20.ATAC.txt</td>\n",
       "    </tr>\n",
       "    <tr>\n",
       "      <th>16</th>\n",
       "      <td>72-20</td>\n",
       "      <td>H3K27Ac</td>\n",
       "      <td>/home/yraghav/CHDI-NeuroLINCS-Multi-Epigenomics-Annotation/analysis/4_prepMat/output/averaged_bed_files/72-20.H3K27Ac.txt</td>\n",
       "    </tr>\n",
       "    <tr>\n",
       "      <th>17</th>\n",
       "      <td>72-20</td>\n",
       "      <td>H3K27me3</td>\n",
       "      <td>/home/yraghav/CHDI-NeuroLINCS-Multi-Epigenomics-Annotation/analysis/4_prepMat/output/averaged_bed_files/72-20.H3K27me3.txt</td>\n",
       "    </tr>\n",
       "    <tr>\n",
       "      <th>18</th>\n",
       "      <td>72-20</td>\n",
       "      <td>H3K4me1</td>\n",
       "      <td>/home/yraghav/CHDI-NeuroLINCS-Multi-Epigenomics-Annotation/analysis/4_prepMat/output/averaged_bed_files/72-20.H3K4me1.txt</td>\n",
       "    </tr>\n",
       "    <tr>\n",
       "      <th>19</th>\n",
       "      <td>72-20</td>\n",
       "      <td>H3K4me3</td>\n",
       "      <td>/home/yraghav/CHDI-NeuroLINCS-Multi-Epigenomics-Annotation/analysis/4_prepMat/output/averaged_bed_files/72-20.H3K4me3.txt</td>\n",
       "    </tr>\n",
       "    <tr>\n",
       "      <th>20</th>\n",
       "      <td>73-21-KD</td>\n",
       "      <td>ATAC</td>\n",
       "      <td>/home/yraghav/CHDI-NeuroLINCS-Multi-Epigenomics-Annotation/analysis/4_prepMat/output/averaged_bed_files/73-21-KD.ATAC.txt</td>\n",
       "    </tr>\n",
       "    <tr>\n",
       "      <th>21</th>\n",
       "      <td>73-21-KD</td>\n",
       "      <td>H3K27Ac</td>\n",
       "      <td>/home/yraghav/CHDI-NeuroLINCS-Multi-Epigenomics-Annotation/analysis/4_prepMat/output/averaged_bed_files/73-21-KD.H3K27Ac.txt</td>\n",
       "    </tr>\n",
       "    <tr>\n",
       "      <th>22</th>\n",
       "      <td>73-21-KD</td>\n",
       "      <td>H3K27me3</td>\n",
       "      <td>/home/yraghav/CHDI-NeuroLINCS-Multi-Epigenomics-Annotation/analysis/4_prepMat/output/averaged_bed_files/73-21-KD.H3K27me3.txt</td>\n",
       "    </tr>\n",
       "    <tr>\n",
       "      <th>23</th>\n",
       "      <td>73-21-KD</td>\n",
       "      <td>H3K4me1</td>\n",
       "      <td>/home/yraghav/CHDI-NeuroLINCS-Multi-Epigenomics-Annotation/analysis/4_prepMat/output/averaged_bed_files/73-21-KD.H3K4me1.txt</td>\n",
       "    </tr>\n",
       "    <tr>\n",
       "      <th>24</th>\n",
       "      <td>73-21-KD</td>\n",
       "      <td>H3K4me3</td>\n",
       "      <td>/home/yraghav/CHDI-NeuroLINCS-Multi-Epigenomics-Annotation/analysis/4_prepMat/output/averaged_bed_files/73-21-KD.H3K4me3.txt</td>\n",
       "    </tr>\n",
       "    <tr>\n",
       "      <th>25</th>\n",
       "      <td>73-21</td>\n",
       "      <td>ATAC</td>\n",
       "      <td>/home/yraghav/CHDI-NeuroLINCS-Multi-Epigenomics-Annotation/analysis/4_prepMat/output/averaged_bed_files/73-21.ATAC.txt</td>\n",
       "    </tr>\n",
       "    <tr>\n",
       "      <th>26</th>\n",
       "      <td>73-21</td>\n",
       "      <td>H3K27Ac</td>\n",
       "      <td>/home/yraghav/CHDI-NeuroLINCS-Multi-Epigenomics-Annotation/analysis/4_prepMat/output/averaged_bed_files/73-21.H3K27Ac.txt</td>\n",
       "    </tr>\n",
       "    <tr>\n",
       "      <th>27</th>\n",
       "      <td>73-21</td>\n",
       "      <td>H3K27me3</td>\n",
       "      <td>/home/yraghav/CHDI-NeuroLINCS-Multi-Epigenomics-Annotation/analysis/4_prepMat/output/averaged_bed_files/73-21.H3K27me3.txt</td>\n",
       "    </tr>\n",
       "    <tr>\n",
       "      <th>28</th>\n",
       "      <td>73-21</td>\n",
       "      <td>H3K4me1</td>\n",
       "      <td>/home/yraghav/CHDI-NeuroLINCS-Multi-Epigenomics-Annotation/analysis/4_prepMat/output/averaged_bed_files/73-21.H3K4me1.txt</td>\n",
       "    </tr>\n",
       "    <tr>\n",
       "      <th>29</th>\n",
       "      <td>73-21</td>\n",
       "      <td>H3K4me3</td>\n",
       "      <td>/home/yraghav/CHDI-NeuroLINCS-Multi-Epigenomics-Annotation/analysis/4_prepMat/output/averaged_bed_files/73-21.H3K4me3.txt</td>\n",
       "    </tr>\n",
       "    <tr>\n",
       "      <th>30</th>\n",
       "      <td>KO</td>\n",
       "      <td>ATAC</td>\n",
       "      <td>/home/yraghav/CHDI-NeuroLINCS-Multi-Epigenomics-Annotation/analysis/4_prepMat/output/averaged_bed_files/KO.ATAC.txt</td>\n",
       "    </tr>\n",
       "    <tr>\n",
       "      <th>31</th>\n",
       "      <td>KO</td>\n",
       "      <td>H3K27Ac</td>\n",
       "      <td>/home/yraghav/CHDI-NeuroLINCS-Multi-Epigenomics-Annotation/analysis/4_prepMat/output/averaged_bed_files/KO.H3K27Ac.txt</td>\n",
       "    </tr>\n",
       "    <tr>\n",
       "      <th>32</th>\n",
       "      <td>KO</td>\n",
       "      <td>H3K27me3</td>\n",
       "      <td>/home/yraghav/CHDI-NeuroLINCS-Multi-Epigenomics-Annotation/analysis/4_prepMat/output/averaged_bed_files/KO.H3K27me3.txt</td>\n",
       "    </tr>\n",
       "    <tr>\n",
       "      <th>33</th>\n",
       "      <td>KO</td>\n",
       "      <td>H3K4me1</td>\n",
       "      <td>/home/yraghav/CHDI-NeuroLINCS-Multi-Epigenomics-Annotation/analysis/4_prepMat/output/averaged_bed_files/KO.H3K4me1.txt</td>\n",
       "    </tr>\n",
       "    <tr>\n",
       "      <th>34</th>\n",
       "      <td>KO</td>\n",
       "      <td>H3K4me3</td>\n",
       "      <td>/home/yraghav/CHDI-NeuroLINCS-Multi-Epigenomics-Annotation/analysis/4_prepMat/output/averaged_bed_files/KO.H3K4me3.txt</td>\n",
       "    </tr>\n",
       "  </tbody>\n",
       "</table>\n",
       "</div>"
      ],
      "text/plain": [
       "           0         1  \\\n",
       "0      20-20      ATAC   \n",
       "1      20-20   H3K27Ac   \n",
       "2      20-20  H3K27me3   \n",
       "3      20-20   H3K4me1   \n",
       "4      20-20   H3K4me3   \n",
       "5      22-20      ATAC   \n",
       "6      22-20   H3K27Ac   \n",
       "7      22-20  H3K27me3   \n",
       "8      22-20   H3K4me1   \n",
       "9      22-20   H3K4me3   \n",
       "10     56-22      ATAC   \n",
       "11     56-22   H3K27Ac   \n",
       "12     56-22  H3K27me3   \n",
       "13     56-22   H3K4me1   \n",
       "14     56-22   H3K4me3   \n",
       "15     72-20      ATAC   \n",
       "16     72-20   H3K27Ac   \n",
       "17     72-20  H3K27me3   \n",
       "18     72-20   H3K4me1   \n",
       "19     72-20   H3K4me3   \n",
       "20  73-21-KD      ATAC   \n",
       "21  73-21-KD   H3K27Ac   \n",
       "22  73-21-KD  H3K27me3   \n",
       "23  73-21-KD   H3K4me1   \n",
       "24  73-21-KD   H3K4me3   \n",
       "25     73-21      ATAC   \n",
       "26     73-21   H3K27Ac   \n",
       "27     73-21  H3K27me3   \n",
       "28     73-21   H3K4me1   \n",
       "29     73-21   H3K4me3   \n",
       "30        KO      ATAC   \n",
       "31        KO   H3K27Ac   \n",
       "32        KO  H3K27me3   \n",
       "33        KO   H3K4me1   \n",
       "34        KO   H3K4me3   \n",
       "\n",
       "                                                                                                                                2  \n",
       "0          /home/yraghav/CHDI-NeuroLINCS-Multi-Epigenomics-Annotation/analysis/4_prepMat/output/averaged_bed_files/20-20.ATAC.txt  \n",
       "1       /home/yraghav/CHDI-NeuroLINCS-Multi-Epigenomics-Annotation/analysis/4_prepMat/output/averaged_bed_files/20-20.H3K27Ac.txt  \n",
       "2      /home/yraghav/CHDI-NeuroLINCS-Multi-Epigenomics-Annotation/analysis/4_prepMat/output/averaged_bed_files/20-20.H3K27me3.txt  \n",
       "3       /home/yraghav/CHDI-NeuroLINCS-Multi-Epigenomics-Annotation/analysis/4_prepMat/output/averaged_bed_files/20-20.H3K4me1.txt  \n",
       "4       /home/yraghav/CHDI-NeuroLINCS-Multi-Epigenomics-Annotation/analysis/4_prepMat/output/averaged_bed_files/20-20.H3K4me3.txt  \n",
       "5          /home/yraghav/CHDI-NeuroLINCS-Multi-Epigenomics-Annotation/analysis/4_prepMat/output/averaged_bed_files/22-20.ATAC.txt  \n",
       "6       /home/yraghav/CHDI-NeuroLINCS-Multi-Epigenomics-Annotation/analysis/4_prepMat/output/averaged_bed_files/22-20.H3K27Ac.txt  \n",
       "7      /home/yraghav/CHDI-NeuroLINCS-Multi-Epigenomics-Annotation/analysis/4_prepMat/output/averaged_bed_files/22-20.H3K27me3.txt  \n",
       "8       /home/yraghav/CHDI-NeuroLINCS-Multi-Epigenomics-Annotation/analysis/4_prepMat/output/averaged_bed_files/22-20.H3K4me1.txt  \n",
       "9       /home/yraghav/CHDI-NeuroLINCS-Multi-Epigenomics-Annotation/analysis/4_prepMat/output/averaged_bed_files/22-20.H3K4me3.txt  \n",
       "10         /home/yraghav/CHDI-NeuroLINCS-Multi-Epigenomics-Annotation/analysis/4_prepMat/output/averaged_bed_files/56-22.ATAC.txt  \n",
       "11      /home/yraghav/CHDI-NeuroLINCS-Multi-Epigenomics-Annotation/analysis/4_prepMat/output/averaged_bed_files/56-22.H3K27Ac.txt  \n",
       "12     /home/yraghav/CHDI-NeuroLINCS-Multi-Epigenomics-Annotation/analysis/4_prepMat/output/averaged_bed_files/56-22.H3K27me3.txt  \n",
       "13      /home/yraghav/CHDI-NeuroLINCS-Multi-Epigenomics-Annotation/analysis/4_prepMat/output/averaged_bed_files/56-22.H3K4me1.txt  \n",
       "14      /home/yraghav/CHDI-NeuroLINCS-Multi-Epigenomics-Annotation/analysis/4_prepMat/output/averaged_bed_files/56-22.H3K4me3.txt  \n",
       "15         /home/yraghav/CHDI-NeuroLINCS-Multi-Epigenomics-Annotation/analysis/4_prepMat/output/averaged_bed_files/72-20.ATAC.txt  \n",
       "16      /home/yraghav/CHDI-NeuroLINCS-Multi-Epigenomics-Annotation/analysis/4_prepMat/output/averaged_bed_files/72-20.H3K27Ac.txt  \n",
       "17     /home/yraghav/CHDI-NeuroLINCS-Multi-Epigenomics-Annotation/analysis/4_prepMat/output/averaged_bed_files/72-20.H3K27me3.txt  \n",
       "18      /home/yraghav/CHDI-NeuroLINCS-Multi-Epigenomics-Annotation/analysis/4_prepMat/output/averaged_bed_files/72-20.H3K4me1.txt  \n",
       "19      /home/yraghav/CHDI-NeuroLINCS-Multi-Epigenomics-Annotation/analysis/4_prepMat/output/averaged_bed_files/72-20.H3K4me3.txt  \n",
       "20      /home/yraghav/CHDI-NeuroLINCS-Multi-Epigenomics-Annotation/analysis/4_prepMat/output/averaged_bed_files/73-21-KD.ATAC.txt  \n",
       "21   /home/yraghav/CHDI-NeuroLINCS-Multi-Epigenomics-Annotation/analysis/4_prepMat/output/averaged_bed_files/73-21-KD.H3K27Ac.txt  \n",
       "22  /home/yraghav/CHDI-NeuroLINCS-Multi-Epigenomics-Annotation/analysis/4_prepMat/output/averaged_bed_files/73-21-KD.H3K27me3.txt  \n",
       "23   /home/yraghav/CHDI-NeuroLINCS-Multi-Epigenomics-Annotation/analysis/4_prepMat/output/averaged_bed_files/73-21-KD.H3K4me1.txt  \n",
       "24   /home/yraghav/CHDI-NeuroLINCS-Multi-Epigenomics-Annotation/analysis/4_prepMat/output/averaged_bed_files/73-21-KD.H3K4me3.txt  \n",
       "25         /home/yraghav/CHDI-NeuroLINCS-Multi-Epigenomics-Annotation/analysis/4_prepMat/output/averaged_bed_files/73-21.ATAC.txt  \n",
       "26      /home/yraghav/CHDI-NeuroLINCS-Multi-Epigenomics-Annotation/analysis/4_prepMat/output/averaged_bed_files/73-21.H3K27Ac.txt  \n",
       "27     /home/yraghav/CHDI-NeuroLINCS-Multi-Epigenomics-Annotation/analysis/4_prepMat/output/averaged_bed_files/73-21.H3K27me3.txt  \n",
       "28      /home/yraghav/CHDI-NeuroLINCS-Multi-Epigenomics-Annotation/analysis/4_prepMat/output/averaged_bed_files/73-21.H3K4me1.txt  \n",
       "29      /home/yraghav/CHDI-NeuroLINCS-Multi-Epigenomics-Annotation/analysis/4_prepMat/output/averaged_bed_files/73-21.H3K4me3.txt  \n",
       "30            /home/yraghav/CHDI-NeuroLINCS-Multi-Epigenomics-Annotation/analysis/4_prepMat/output/averaged_bed_files/KO.ATAC.txt  \n",
       "31         /home/yraghav/CHDI-NeuroLINCS-Multi-Epigenomics-Annotation/analysis/4_prepMat/output/averaged_bed_files/KO.H3K27Ac.txt  \n",
       "32        /home/yraghav/CHDI-NeuroLINCS-Multi-Epigenomics-Annotation/analysis/4_prepMat/output/averaged_bed_files/KO.H3K27me3.txt  \n",
       "33         /home/yraghav/CHDI-NeuroLINCS-Multi-Epigenomics-Annotation/analysis/4_prepMat/output/averaged_bed_files/KO.H3K4me1.txt  \n",
       "34         /home/yraghav/CHDI-NeuroLINCS-Multi-Epigenomics-Annotation/analysis/4_prepMat/output/averaged_bed_files/KO.H3K4me3.txt  "
      ]
     },
     "execution_count": 108,
     "metadata": {},
     "output_type": "execute_result"
    }
   ],
   "source": [
    "ideas_input"
   ]
  },
  {
   "cell_type": "code",
   "execution_count": 109,
   "id": "73b7206b-b668-4584-85b8-b3ad94f22cd4",
   "metadata": {},
   "outputs": [
    {
     "data": {
      "text/plain": [
       "5208.68"
      ]
     },
     "execution_count": 109,
     "metadata": {},
     "output_type": "execute_result"
    }
   ],
   "source": [
    "cap = float(0)\n",
    "\n",
    "for file in sorted(glob.glob(\"/home/yraghav/CHDI-NeuroLINCS-Multi-Epigenomics-Annotation/analysis/4_prepMat/output/averaged_bed_files/*.txt\")): \n",
    "    with open(file, 'r') as in_file: \n",
    "        for line in in_file: \n",
    "            if float(line) > cap: \n",
    "                cap = float(line)\n",
    "\n",
    "cap    "
   ]
  },
  {
   "cell_type": "code",
   "execution_count": 110,
   "id": "61d8600b-97e6-40a1-b7e4-acf580021ce0",
   "metadata": {},
   "outputs": [],
   "source": [
    "ideas_input.to_csv(\n",
    "    \n",
    "    \"/home/yraghav/CHDI-NeuroLINCS-Multi-Epigenomics-Annotation/analysis/4_prepMat/output/ES_stage.input\", \n",
    "    sep=' ', \n",
    "    index=False, \n",
    "    header=False\n",
    ")"
   ]
  }
 ],
 "metadata": {
  "kernelspec": {
   "display_name": "Python 3",
   "language": "python",
   "name": "python3"
  },
  "language_info": {
   "codemirror_mode": {
    "name": "ipython",
    "version": 3
   },
   "file_extension": ".py",
   "mimetype": "text/x-python",
   "name": "python",
   "nbconvert_exporter": "python",
   "pygments_lexer": "ipython3",
   "version": "3.9.4"
  }
 },
 "nbformat": 4,
 "nbformat_minor": 5
}
